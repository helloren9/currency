{
  "cells": [
    {
      "cell_type": "code",
      "source": "import nltk\nnltk.download('omw-1.4')",
      "metadata": {
        "source_hash": null,
        "execution_start": 1713912123958,
        "execution_millis": 61,
        "deepnote_to_be_reexecuted": false,
        "cell_id": "5d48f3b225a147feb7f1365542df876b",
        "deepnote_cell_type": "code"
      },
      "outputs": [
        {
          "name": "stderr",
          "text": "[nltk_data] Downloading package omw-1.4 to /root/nltk_data...\n[nltk_data]   Package omw-1.4 is already up-to-date!\n",
          "output_type": "stream"
        },
        {
          "output_type": "execute_result",
          "execution_count": 2,
          "data": {
            "text/plain": "True"
          },
          "metadata": {}
        }
      ],
      "outputs_reference": null,
      "execution_count": null,
      "block_group": "5d48f3b225a147feb7f1365542df876b",
      "content_dependencies": null
    },
    {
      "cell_type": "code",
      "source": "from nltk.stem import WordNetLemmatizer\nlemmatizer = WordNetLemmatizer()\nsentence = 'Vegetables are types of plants.'",
      "metadata": {
        "source_hash": null,
        "execution_start": 1713912346756,
        "execution_millis": 120,
        "deepnote_to_be_reexecuted": false,
        "cell_id": "2db38292412742a18d2246861c7681b8",
        "deepnote_cell_type": "code"
      },
      "outputs": [],
      "outputs_reference": null,
      "execution_count": null,
      "block_group": "8900462f96f24d208fa48251f85f068d",
      "content_dependencies": null
    },
    {
      "cell_type": "code",
      "source": "nltk.download('punkt')",
      "metadata": {
        "source_hash": null,
        "execution_start": 1713912422411,
        "execution_millis": 183,
        "deepnote_to_be_reexecuted": false,
        "cell_id": "57a8e922f6a24bed86915f30ae892fc2",
        "deepnote_cell_type": "code"
      },
      "outputs": [
        {
          "name": "stderr",
          "text": "[nltk_data] Downloading package punkt to /root/nltk_data...\n[nltk_data]   Unzipping tokenizers/punkt.zip.\n",
          "output_type": "stream"
        },
        {
          "output_type": "execute_result",
          "execution_count": 6,
          "data": {
            "text/plain": "True"
          },
          "metadata": {}
        }
      ],
      "outputs_reference": null,
      "execution_count": null,
      "block_group": "d979d3b0409a4b3c823521ac6bbaf15f",
      "content_dependencies": null
    },
    {
      "cell_type": "code",
      "source": "sentence_tokens = nltk.word_tokenize(sentence.lower())\nsentence_tokens\n",
      "metadata": {
        "source_hash": null,
        "execution_start": 1713912518175,
        "execution_millis": 139,
        "deepnote_to_be_reexecuted": false,
        "cell_id": "21fb7ebf653b4e168174df6389af7c88",
        "deepnote_cell_type": "code"
      },
      "outputs": [
        {
          "output_type": "execute_result",
          "execution_count": 8,
          "data": {
            "text/plain": "['vegetables', 'are', 'types', 'of', 'plants', '.']"
          },
          "metadata": {}
        }
      ],
      "outputs_reference": null,
      "execution_count": null,
      "block_group": "454442d6e04f41aaaa0ca35857c208fb",
      "content_dependencies": null
    },
    {
      "cell_type": "code",
      "source": "nltk.download('averaged_perceptron_tagger')",
      "metadata": {
        "source_hash": null,
        "execution_start": 1713912713554,
        "execution_millis": 75,
        "deepnote_to_be_reexecuted": false,
        "cell_id": "16efc1ba494840f69d31f7c77ef51e79",
        "deepnote_cell_type": "code"
      },
      "outputs": [
        {
          "name": "stderr",
          "text": "[nltk_data] Downloading package averaged_perceptron_tagger to\n[nltk_data]     /root/nltk_data...\n[nltk_data]   Unzipping taggers/averaged_perceptron_tagger.zip.\n",
          "output_type": "stream"
        },
        {
          "output_type": "execute_result",
          "execution_count": 11,
          "data": {
            "text/plain": "True"
          },
          "metadata": {}
        }
      ],
      "outputs_reference": null,
      "execution_count": null,
      "block_group": "355a758e265d4f6c96730a01b36b9027",
      "content_dependencies": null
    },
    {
      "cell_type": "code",
      "source": "pos_tags = nltk.pos_tag(sentence_tokens)\npos_tags",
      "metadata": {
        "source_hash": null,
        "execution_start": 1713912716628,
        "execution_millis": 242,
        "deepnote_to_be_reexecuted": false,
        "cell_id": "d58373b010cd47a7b2412615efc65b13",
        "deepnote_cell_type": "code"
      },
      "outputs": [
        {
          "output_type": "execute_result",
          "execution_count": 12,
          "data": {
            "text/plain": "[('vegetables', 'NNS'),\n ('are', 'VBP'),\n ('types', 'NNS'),\n ('of', 'IN'),\n ('plants', 'NNS'),\n ('.', '.')]"
          },
          "metadata": {}
        }
      ],
      "outputs_reference": null,
      "execution_count": null,
      "block_group": "0b31d60325d84694b408165b6d3ea69c",
      "content_dependencies": null
    },
    {
      "cell_type": "code",
      "source": "def lemma_me(sent):\n    sentence_tokens = nltk.word_tokenize(sent.lower())\n    pos_tags = nltk.pos_tag(sentence_tokens)\n\n    sentence_lemmas = []\n    for token, pos_tag in zip(sentence_tokens, pos_tags):\n        if pos_tag[1][0].lower() in ['n', 'v', 'a', 'r']:\n            lemma = lemmatizer.lemmatize(token, pos_tag[1][0].lower())\n            sentence_lemmas.append(lemma)\n\n    return sentence_lemmas",
      "metadata": {
        "source_hash": null,
        "execution_start": 1713913571215,
        "execution_millis": 83,
        "deepnote_to_be_reexecuted": false,
        "cell_id": "14ab7d6c4b054dcab07b105464493e69",
        "deepnote_cell_type": "code"
      },
      "outputs": [],
      "outputs_reference": null,
      "execution_count": null,
      "block_group": "eeaa3609515e49a7ba1803194a571ef2",
      "content_dependencies": null
    },
    {
      "cell_type": "code",
      "source": "l1 = lemma_me('Vegetables are types of plants.')\nl1",
      "metadata": {
        "source_hash": null,
        "execution_start": 1713913593069,
        "execution_millis": 83,
        "deepnote_to_be_reexecuted": false,
        "cell_id": "e4d4d0eb36b54c7c9d2288264160ff03",
        "deepnote_cell_type": "code"
      },
      "outputs": [
        {
          "output_type": "execute_result",
          "execution_count": 23,
          "data": {
            "text/plain": "['vegetable', 'be', 'type', 'plant']"
          },
          "metadata": {}
        }
      ],
      "outputs_reference": null,
      "execution_count": null,
      "block_group": "410408a632934df7baa585e4ce9c4834",
      "content_dependencies": null
    },
    {
      "cell_type": "code",
      "source": "l2 = lemma_me('A vegetable is a type of plant')\nl2",
      "metadata": {
        "source_hash": null,
        "execution_start": 1713913623603,
        "execution_millis": 104,
        "deepnote_to_be_reexecuted": false,
        "cell_id": "7953a245b2144fd79a5f6f0587980aa2",
        "deepnote_cell_type": "code"
      },
      "outputs": [
        {
          "output_type": "execute_result",
          "execution_count": 24,
          "data": {
            "text/plain": "['vegetable', 'be', 'type', 'plant']"
          },
          "metadata": {}
        }
      ],
      "outputs_reference": null,
      "execution_count": null,
      "block_group": "bf1dd7d0e84a4038b962fa4e6caf34be",
      "content_dependencies": null
    },
    {
      "cell_type": "code",
      "source": "l1 == l2",
      "metadata": {
        "source_hash": null,
        "execution_start": 1713913644124,
        "execution_millis": 31,
        "deepnote_to_be_reexecuted": false,
        "cell_id": "8bd0b3e890ca48349aab74c42d1b6e9c",
        "deepnote_cell_type": "code"
      },
      "outputs": [
        {
          "output_type": "execute_result",
          "execution_count": 25,
          "data": {
            "text/plain": "True"
          },
          "metadata": {}
        }
      ],
      "outputs_reference": null,
      "execution_count": null,
      "block_group": "fc8b54468fd648889295322aacd55c12",
      "content_dependencies": null
    },
    {
      "cell_type": "code",
      "source": "text = 'Originally, vegetableswere collected from the wild by hunter-gatherers. Vegatables are all plants. Vegetables can be eaten.'\nquestion = 'What are vegetables?'",
      "metadata": {
        "cell_id": "33b51ef4c3234fa399bd0872a585d6fb",
        "deepnote_cell_type": "code"
      },
      "outputs": [],
      "outputs_reference": null,
      "execution_count": null,
      "block_group": "3692a2f4a0ac45dc8050bcfeb7377036",
      "content_dependencies": null
    },
    {
      "cell_type": "markdown",
      "source": "<a style='text-decoration:none;line-height:16px;display:flex;color:#5B5B62;padding:10px;justify-content:end;' href='https://deepnote.com?utm_source=created-in-deepnote-cell&projectId=f0239da0-8e7b-4b78-b8ab-6a82be0fb466' target=\"_blank\">\n<img alt='Created in deepnote.com' style='display:inline;max-height:16px;margin:0px;margin-right:7.5px;' src='data:image/svg+xml;base64,PD94bWwgdmVyc2lvbj0iMS4wIiBlbmNvZGluZz0iVVRGLTgiPz4KPHN2ZyB3aWR0aD0iODBweCIgaGVpZ2h0PSI4MHB4IiB2aWV3Qm94PSIwIDAgODAgODAiIHZlcnNpb249IjEuMSIgeG1sbnM9Imh0dHA6Ly93d3cudzMub3JnLzIwMDAvc3ZnIiB4bWxuczp4bGluaz0iaHR0cDovL3d3dy53My5vcmcvMTk5OS94bGluayI+CiAgICA8IS0tIEdlbmVyYXRvcjogU2tldGNoIDU0LjEgKDc2NDkwKSAtIGh0dHBzOi8vc2tldGNoYXBwLmNvbSAtLT4KICAgIDx0aXRsZT5Hcm91cCAzPC90aXRsZT4KICAgIDxkZXNjPkNyZWF0ZWQgd2l0aCBTa2V0Y2guPC9kZXNjPgogICAgPGcgaWQ9IkxhbmRpbmciIHN0cm9rZT0ibm9uZSIgc3Ryb2tlLXdpZHRoPSIxIiBmaWxsPSJub25lIiBmaWxsLXJ1bGU9ImV2ZW5vZGQiPgogICAgICAgIDxnIGlkPSJBcnRib2FyZCIgdHJhbnNmb3JtPSJ0cmFuc2xhdGUoLTEyMzUuMDAwMDAwLCAtNzkuMDAwMDAwKSI+CiAgICAgICAgICAgIDxnIGlkPSJHcm91cC0zIiB0cmFuc2Zvcm09InRyYW5zbGF0ZSgxMjM1LjAwMDAwMCwgNzkuMDAwMDAwKSI+CiAgICAgICAgICAgICAgICA8cG9seWdvbiBpZD0iUGF0aC0yMCIgZmlsbD0iIzAyNjVCNCIgcG9pbnRzPSIyLjM3NjIzNzYyIDgwIDM4LjA0NzY2NjcgODAgNTcuODIxNzgyMiA3My44MDU3NTkyIDU3LjgyMTc4MjIgMzIuNzU5MjczOSAzOS4xNDAyMjc4IDMxLjY4MzE2ODMiPjwvcG9seWdvbj4KICAgICAgICAgICAgICAgIDxwYXRoIGQ9Ik0zNS4wMDc3MTgsODAgQzQyLjkwNjIwMDcsNzYuNDU0OTM1OCA0Ny41NjQ5MTY3LDcxLjU0MjI2NzEgNDguOTgzODY2LDY1LjI2MTk5MzkgQzUxLjExMjI4OTksNTUuODQxNTg0MiA0MS42NzcxNzk1LDQ5LjIxMjIyODQgMjUuNjIzOTg0Niw0OS4yMTIyMjg0IEMyNS40ODQ5Mjg5LDQ5LjEyNjg0NDggMjkuODI2MTI5Niw0My4yODM4MjQ4IDM4LjY0NzU4NjksMzEuNjgzMTY4MyBMNzIuODcxMjg3MSwzMi41NTQ0MjUgTDY1LjI4MDk3Myw2Ny42NzYzNDIxIEw1MS4xMTIyODk5LDc3LjM3NjE0NCBMMzUuMDA3NzE4LDgwIFoiIGlkPSJQYXRoLTIyIiBmaWxsPSIjMDAyODY4Ij48L3BhdGg+CiAgICAgICAgICAgICAgICA8cGF0aCBkPSJNMCwzNy43MzA0NDA1IEwyNy4xMTQ1MzcsMC4yNTcxMTE0MzYgQzYyLjM3MTUxMjMsLTEuOTkwNzE3MDEgODAsMTAuNTAwMzkyNyA4MCwzNy43MzA0NDA1IEM4MCw2NC45NjA0ODgyIDY0Ljc3NjUwMzgsNzkuMDUwMzQxNCAzNC4zMjk1MTEzLDgwIEM0Ny4wNTUzNDg5LDc3LjU2NzA4MDggNTMuNDE4MjY3Nyw3MC4zMTM2MTAzIDUzLjQxODI2NzcsNTguMjM5NTg4NSBDNTMuNDE4MjY3Nyw0MC4xMjg1NTU3IDM2LjMwMzk1NDQsMzcuNzMwNDQwNSAyNS4yMjc0MTcsMzcuNzMwNDQwNSBDMTcuODQzMDU4NiwzNy43MzA0NDA1IDkuNDMzOTE5NjYsMzcuNzMwNDQwNSAwLDM3LjczMDQ0MDUgWiIgaWQ9IlBhdGgtMTkiIGZpbGw9IiMzNzkzRUYiPjwvcGF0aD4KICAgICAgICAgICAgPC9nPgogICAgICAgIDwvZz4KICAgIDwvZz4KPC9zdmc+' > </img>\nCreated in <span style='font-weight:600;margin-left:4px;'>Deepnote</span></a>",
      "metadata": {
        "created_in_deepnote_cell": true,
        "deepnote_cell_type": "markdown"
      }
    }
  ],
  "nbformat": 4,
  "nbformat_minor": 0,
  "metadata": {
    "deepnote_persisted_session": {
      "createdAt": "2024-04-23T23:30:38.624Z"
    },
    "deepnote_notebook_id": "272ed6f8729d4d3890621c47e9067dd0",
    "deepnote_execution_queue": []
  }
}